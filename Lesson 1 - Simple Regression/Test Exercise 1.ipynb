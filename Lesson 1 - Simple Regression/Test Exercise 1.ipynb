{
 "cells": [
  {
   "cell_type": "markdown",
   "metadata": {},
   "source": [
    "This is a IPython notebook that contains both the answers and the corresponding code for the problems in Test Exercise 1. All code is written is in Python 3 and the text is generated using Markdown."
   ]
  },
  {
   "cell_type": "code",
   "execution_count": 1,
   "metadata": {},
   "outputs": [],
   "source": [
    "# Importing the relevant libraries\n",
    "import numpy as np\n",
    "import pandas as pd\n",
    "from scipy.stats import kurtosis, skew\n",
    "import matplotlib.pyplot as plt\n",
    "%matplotlib inline\n",
    "import seaborn as sns\n",
    "sns.set_style('whitegrid')"
   ]
  },
  {
   "cell_type": "code",
   "execution_count": 2,
   "metadata": {},
   "outputs": [
    {
     "data": {
      "text/html": [
       "<div>\n",
       "<style>\n",
       "    .dataframe thead tr:only-child th {\n",
       "        text-align: right;\n",
       "    }\n",
       "\n",
       "    .dataframe thead th {\n",
       "        text-align: left;\n",
       "    }\n",
       "\n",
       "    .dataframe tbody tr th {\n",
       "        vertical-align: top;\n",
       "    }\n",
       "</style>\n",
       "<table border=\"1\" class=\"dataframe\">\n",
       "  <thead>\n",
       "    <tr style=\"text-align: right;\">\n",
       "      <th></th>\n",
       "      <th>Observation</th>\n",
       "      <th>Advertising</th>\n",
       "      <th>Sales</th>\n",
       "    </tr>\n",
       "  </thead>\n",
       "  <tbody>\n",
       "    <tr>\n",
       "      <th>0</th>\n",
       "      <td>1</td>\n",
       "      <td>12</td>\n",
       "      <td>24</td>\n",
       "    </tr>\n",
       "    <tr>\n",
       "      <th>1</th>\n",
       "      <td>2</td>\n",
       "      <td>12</td>\n",
       "      <td>27</td>\n",
       "    </tr>\n",
       "    <tr>\n",
       "      <th>2</th>\n",
       "      <td>3</td>\n",
       "      <td>9</td>\n",
       "      <td>25</td>\n",
       "    </tr>\n",
       "    <tr>\n",
       "      <th>3</th>\n",
       "      <td>4</td>\n",
       "      <td>11</td>\n",
       "      <td>27</td>\n",
       "    </tr>\n",
       "    <tr>\n",
       "      <th>4</th>\n",
       "      <td>5</td>\n",
       "      <td>6</td>\n",
       "      <td>23</td>\n",
       "    </tr>\n",
       "  </tbody>\n",
       "</table>\n",
       "</div>"
      ],
      "text/plain": [
       "   Observation  Advertising  Sales\n",
       "0            1           12     24\n",
       "1            2           12     27\n",
       "2            3            9     25\n",
       "3            4           11     27\n",
       "4            5            6     23"
      ]
     },
     "execution_count": 2,
     "metadata": {},
     "output_type": "execute_result"
    }
   ],
   "source": [
    "# Importing the dataset\n",
    "data = pd.read_excel('_689829b5c78b9b71bd384ed8fb8714c1_TestExer-1-sales-round1.xls')\n",
    "data.head()"
   ]
  },
  {
   "cell_type": "code",
   "execution_count": 3,
   "metadata": {},
   "outputs": [
    {
     "data": {
      "text/html": [
       "<div>\n",
       "<style>\n",
       "    .dataframe thead tr:only-child th {\n",
       "        text-align: right;\n",
       "    }\n",
       "\n",
       "    .dataframe thead th {\n",
       "        text-align: left;\n",
       "    }\n",
       "\n",
       "    .dataframe tbody tr th {\n",
       "        vertical-align: top;\n",
       "    }\n",
       "</style>\n",
       "<table border=\"1\" class=\"dataframe\">\n",
       "  <thead>\n",
       "    <tr style=\"text-align: right;\">\n",
       "      <th></th>\n",
       "      <th>Observation</th>\n",
       "      <th>Advertising</th>\n",
       "      <th>Sales</th>\n",
       "    </tr>\n",
       "  </thead>\n",
       "  <tbody>\n",
       "    <tr>\n",
       "      <th>count</th>\n",
       "      <td>20.00000</td>\n",
       "      <td>20.000000</td>\n",
       "      <td>20.000000</td>\n",
       "    </tr>\n",
       "    <tr>\n",
       "      <th>mean</th>\n",
       "      <td>10.50000</td>\n",
       "      <td>10.250000</td>\n",
       "      <td>26.300000</td>\n",
       "    </tr>\n",
       "    <tr>\n",
       "      <th>std</th>\n",
       "      <td>5.91608</td>\n",
       "      <td>2.917732</td>\n",
       "      <td>5.759203</td>\n",
       "    </tr>\n",
       "    <tr>\n",
       "      <th>min</th>\n",
       "      <td>1.00000</td>\n",
       "      <td>6.000000</td>\n",
       "      <td>23.000000</td>\n",
       "    </tr>\n",
       "    <tr>\n",
       "      <th>25%</th>\n",
       "      <td>5.75000</td>\n",
       "      <td>8.000000</td>\n",
       "      <td>24.000000</td>\n",
       "    </tr>\n",
       "    <tr>\n",
       "      <th>50%</th>\n",
       "      <td>10.50000</td>\n",
       "      <td>11.000000</td>\n",
       "      <td>25.000000</td>\n",
       "    </tr>\n",
       "    <tr>\n",
       "      <th>75%</th>\n",
       "      <td>15.25000</td>\n",
       "      <td>12.000000</td>\n",
       "      <td>26.250000</td>\n",
       "    </tr>\n",
       "    <tr>\n",
       "      <th>max</th>\n",
       "      <td>20.00000</td>\n",
       "      <td>16.000000</td>\n",
       "      <td>50.000000</td>\n",
       "    </tr>\n",
       "  </tbody>\n",
       "</table>\n",
       "</div>"
      ],
      "text/plain": [
       "       Observation  Advertising      Sales\n",
       "count     20.00000    20.000000  20.000000\n",
       "mean      10.50000    10.250000  26.300000\n",
       "std        5.91608     2.917732   5.759203\n",
       "min        1.00000     6.000000  23.000000\n",
       "25%        5.75000     8.000000  24.000000\n",
       "50%       10.50000    11.000000  25.000000\n",
       "75%       15.25000    12.000000  26.250000\n",
       "max       20.00000    16.000000  50.000000"
      ]
     },
     "execution_count": 3,
     "metadata": {},
     "output_type": "execute_result"
    }
   ],
   "source": [
    "# Summary of the data\n",
    "data.describe()"
   ]
  },
  {
   "cell_type": "markdown",
   "metadata": {},
   "source": [
    "## Part (a)\n",
    "\n",
    "The scatter plot of the data is generated using the code snippet below.  \n",
    "The regression line would not be accurate due to the outlier present at the data point (6,50). The outlier would create a single high residual value which would violate assumption A3. The regression line thus generated would not fit well to the data and have lower Variance Explained ($R^2$), lower t-value for $b$, and a large 95% confidence interval for $b$."
   ]
  },
  {
   "cell_type": "code",
   "execution_count": 4,
   "metadata": {},
   "outputs": [
    {
     "data": {
      "image/png": "[encoded data removed]",
      "text/plain": [
       "<matplotlib.figure.Figure at 0x115e8af98>"
      ]
     },
     "metadata": {},
     "output_type": "display_data"
    }
   ],
   "source": [
    "plt.figure(figsize=(8,8))\n",
    "plt.title('Scatter plot')\n",
    "plt.scatter(data['Advertising'], data['Sales'], c='b', alpha=0.6)\n",
    "plt.xlabel('Advertising')\n",
    "plt.ylabel('Sales')\n",
    "plt.ylim([20,55])\n",
    "plt.show()"
   ]
  },
  {
   "cell_type": "markdown",
   "metadata": {},
   "source": [
    "## Part (b)"
   ]
  },
  {
   "cell_type": "code",
   "execution_count": 5,
   "metadata": {},
   "outputs": [],
   "source": [
    "x = data['Advertising']\n",
    "y = data['Sales']\n",
    "mean_x = x.mean()\n",
    "mean_y = y.mean()"
   ]
  },
  {
   "cell_type": "code",
   "execution_count": 6,
   "metadata": {},
   "outputs": [],
   "source": [
    "b = (np.dot(np.transpose(x - mean_x),(y - mean_y)))/sum((x - mean_x)**2)"
   ]
  },
  {
   "cell_type": "code",
   "execution_count": 7,
   "metadata": {},
   "outputs": [],
   "source": [
    "a = mean_y - b*mean_x"
   ]
  },
  {
   "cell_type": "code",
   "execution_count": 8,
   "metadata": {},
   "outputs": [
    {
     "name": "stdout",
     "output_type": "stream",
     "text": [
      "a = 29.626893353941266\n",
      "b = -0.3245749613601236\n"
     ]
    }
   ],
   "source": [
    "print(\"a = {}\\nb = {}\".format(a,b))"
   ]
  },
  {
   "cell_type": "code",
   "execution_count": 9,
   "metadata": {},
   "outputs": [
    {
     "data": {
      "image/png": "[encoded data removed]",
      "text/plain": [
       "<matplotlib.figure.Figure at 0x117f3f0f0>"
      ]
     },
     "metadata": {},
     "output_type": "display_data"
    }
   ],
   "source": [
    "plt.figure(figsize=(8,8))\n",
    "plt.title('Scatter plot with regression line')\n",
    "plt.scatter(x, y, c='b', alpha=0.6)\n",
    "plt.plot(x, a+b*x, '-r')\n",
    "plt.xlabel('Advertising')\n",
    "plt.ylabel('Sales')\n",
    "plt.ylim([20,55])\n",
    "plt.show()"
   ]
  },
  {
   "cell_type": "code",
   "execution_count": 10,
   "metadata": {},
   "outputs": [],
   "source": [
    "e = (y - mean_y) - b*(x - mean_x)\n",
    "R2 = 1 - sum(e**2)/sum((y - mean_y)**2)"
   ]
  },
  {
   "cell_type": "code",
   "execution_count": 11,
   "metadata": {},
   "outputs": [
    {
     "name": "stdout",
     "output_type": "stream",
     "text": [
      "R squared = 0.027039329532539513\n"
     ]
    }
   ],
   "source": [
    "print(\"R squared = {}\".format(R2))"
   ]
  },
  {
   "cell_type": "code",
   "execution_count": 12,
   "metadata": {},
   "outputs": [
    {
     "name": "stdout",
     "output_type": "stream",
     "text": [
      "s^2 = 34.06443414047742\n"
     ]
    }
   ],
   "source": [
    "s2 = sum(e**2)/(len(x)-2)\n",
    "print(\"s^2 = {}\".format(s2))"
   ]
  },
  {
   "cell_type": "code",
   "execution_count": 13,
   "metadata": {},
   "outputs": [
    {
     "name": "stdout",
     "output_type": "stream",
     "text": [
      "s_b = 0.45891097580291074\n"
     ]
    }
   ],
   "source": [
    "s_b = (s2/sum((x - mean_x)**2))**0.5\n",
    "print(\"s_b = {}\".format(s_b))"
   ]
  },
  {
   "cell_type": "code",
   "execution_count": 14,
   "metadata": {},
   "outputs": [
    {
     "name": "stdout",
     "output_type": "stream",
     "text": [
      "t_b = -0.7072721692747644\n"
     ]
    }
   ],
   "source": [
    "# t-value of b\n",
    "t_b = b/s_b\n",
    "print(\"t_b = {}\".format(t_b))"
   ]
  },
  {
   "cell_type": "code",
   "execution_count": 15,
   "metadata": {},
   "outputs": [
    {
     "name": "stdout",
     "output_type": "stream",
     "text": [
      "Approx 95% confidence interval for b is [-1.2423969129659451,0.5932469902456978]\n"
     ]
    }
   ],
   "source": [
    "print(\"Approx 95% confidence interval for b is [{},{}]\".format(b - 2*s_b, b + 2*s_b))"
   ]
  },
  {
   "cell_type": "markdown",
   "metadata": {},
   "source": [
    "From the above calculations,  \n",
    "$a = 29.627$  \n",
    "$b = -0.325$  \n",
    "$R^2 = 0.027$  \n",
    "t-value for $b = -0.707$  \n",
    "standard error for $b = 0.459$  \n",
    "$b$ is close to $0$. It is evident from its standard error, and the low t-value of $b$ and hence we cannot not reject the null hypothesis ($H0$) that $\\beta = 0$."
   ]
  },
  {
   "cell_type": "markdown",
   "metadata": {},
   "source": [
    "## Part (c)"
   ]
  },
  {
   "cell_type": "code",
   "execution_count": 16,
   "metadata": {},
   "outputs": [
    {
     "data": {
      "image/png": "[encoded data removed]",
      "text/plain": [
       "<matplotlib.figure.Figure at 0x11806cda0>"
      ]
     },
     "metadata": {},
     "output_type": "display_data"
    }
   ],
   "source": [
    "plt.figure(figsize=(10,8))\n",
    "plt.title('Histogram of Residuals')\n",
    "plt.hist(e,normed=True,bins=20)\n",
    "plt.xlabel('Residuals')\n",
    "plt.ylabel('Probability')\n",
    "plt.show()"
   ]
  },
  {
   "cell_type": "code",
   "execution_count": 17,
   "metadata": {},
   "outputs": [
    {
     "name": "stdout",
     "output_type": "stream",
     "text": [
      "Mean: -7.327471962526033e-16\n",
      "Std dev: 5.680807089288938\n",
      "Skewness: 3.178012049426174\n",
      "Kurtosis: 10.282601127554958\n"
     ]
    }
   ],
   "source": [
    "print(\"Mean: {}\\nStd dev: {}\\nSkewness: {}\\nKurtosis: {}\".format(e.mean(), e.std(), skew(e), kurtosis(e)))"
   ]
  },
  {
   "cell_type": "markdown",
   "metadata": {},
   "source": [
    "Observing the high value for skewness (>0), and high value for kurtosis (>3) it can be concluded that the histogram of the residuals does't follow a normal distribution. "
   ]
  },
  {
   "cell_type": "markdown",
   "metadata": {},
   "source": [
    "## Part (d)\n",
    "\n",
    "To get a more satisfactory model, we need to remove the outlier from the dataset. So, I removed the outlier present at (6,50). It is safe to do so because it is mentioned in the problem statement that for that particular observation the store was also open during the evenings of the week while for all other observations the store was not open during the evenings."
   ]
  },
  {
   "cell_type": "markdown",
   "metadata": {},
   "source": [
    "## Part (e)"
   ]
  },
  {
   "cell_type": "code",
   "execution_count": 18,
   "metadata": {},
   "outputs": [],
   "source": [
    "#Removing the outlier from the dataset.\n",
    "cleaned_data = data[data['Sales'] != 50]"
   ]
  },
  {
   "cell_type": "code",
   "execution_count": 19,
   "metadata": {},
   "outputs": [],
   "source": [
    "# Recalculating the paramters and statistics\n",
    "x = cleaned_data['Advertising']\n",
    "y = cleaned_data['Sales']\n",
    "mean_x = x.mean()\n",
    "mean_y = y.mean()"
   ]
  },
  {
   "cell_type": "code",
   "execution_count": 20,
   "metadata": {},
   "outputs": [],
   "source": [
    "b = (np.dot(np.transpose(x - mean_x),(y - mean_y)))/sum((x - mean_x)**2)"
   ]
  },
  {
   "cell_type": "code",
   "execution_count": 21,
   "metadata": {},
   "outputs": [],
   "source": [
    "a = mean_y - b*mean_x"
   ]
  },
  {
   "cell_type": "code",
   "execution_count": 22,
   "metadata": {},
   "outputs": [
    {
     "name": "stdout",
     "output_type": "stream",
     "text": [
      "a = 21.125\n",
      "b = 0.375\n"
     ]
    }
   ],
   "source": [
    "print(\"a = {}\\nb = {}\".format(a,b))"
   ]
  },
  {
   "cell_type": "code",
   "execution_count": 23,
   "metadata": {},
   "outputs": [
    {
     "data": {
      "image/png": "[encoded data removed]",
      "text/plain": [
       "<matplotlib.figure.Figure at 0x118263438>"
      ]
     },
     "metadata": {},
     "output_type": "display_data"
    }
   ],
   "source": [
    "plt.figure(figsize=(8,8))\n",
    "plt.title('Scatter plot with regression line')\n",
    "plt.scatter(x, y, c='b', alpha=0.6)\n",
    "plt.plot(x, a+b*x, '-r')\n",
    "plt.xlabel('Advertising')\n",
    "plt.ylabel('Sales')\n",
    "plt.ylim([20,55])\n",
    "plt.show()"
   ]
  },
  {
   "cell_type": "code",
   "execution_count": 24,
   "metadata": {},
   "outputs": [],
   "source": [
    "e = (y - mean_y) - b*(x - mean_x)\n",
    "R2 = 1 - sum(e**2)/sum((y - mean_y)**2)"
   ]
  },
  {
   "cell_type": "code",
   "execution_count": 25,
   "metadata": {},
   "outputs": [
    {
     "name": "stdout",
     "output_type": "stream",
     "text": [
      "R squared = 0.5153716216216215\n"
     ]
    }
   ],
   "source": [
    "print(\"R squared = {}\".format(R2))"
   ]
  },
  {
   "cell_type": "code",
   "execution_count": 26,
   "metadata": {},
   "outputs": [
    {
     "name": "stdout",
     "output_type": "stream",
     "text": [
      "s^2 = 1.1102941176470589\n"
     ]
    }
   ],
   "source": [
    "s2 = sum(e**2)/(len(x)-2)\n",
    "print(\"s^2 = {}\".format(s2))"
   ]
  },
  {
   "cell_type": "code",
   "execution_count": 27,
   "metadata": {},
   "outputs": [
    {
     "name": "stdout",
     "output_type": "stream",
     "text": [
      "s_b = 0.0881964241412493\n"
     ]
    }
   ],
   "source": [
    "s_b = (s2/sum((x - mean_x)**2))**0.5\n",
    "print(\"s_b = {}\".format(s_b))"
   ]
  },
  {
   "cell_type": "code",
   "execution_count": 28,
   "metadata": {},
   "outputs": [
    {
     "name": "stdout",
     "output_type": "stream",
     "text": [
      "t_b = 4.251873062329896\n"
     ]
    }
   ],
   "source": [
    "# t-value of b\n",
    "t_b = b/s_b\n",
    "print(\"t_b = {}\".format(t_b))"
   ]
  },
  {
   "cell_type": "code",
   "execution_count": 29,
   "metadata": {},
   "outputs": [
    {
     "name": "stdout",
     "output_type": "stream",
     "text": [
      "Approx 95% confidence interval for b is [0.1986071517175014,0.5513928482824986]\n"
     ]
    }
   ],
   "source": [
    "print(\"Approx 95% confidence interval for b is [{},{}]\".format(b - 2*s_b, b + 2*s_b))"
   ]
  },
  {
   "cell_type": "markdown",
   "metadata": {},
   "source": [
    "From the above calculations,  \n",
    "$a = 21.125$  \n",
    "$b = 0.375$  \n",
    "$R^2 = 0.515$  \n",
    "t-value for $b = 4.252$  \n",
    "standard error for $b = 0.088$  \n",
    "$b$ is significantly different from $0$ as it has a low standard error and high t-value (>2). So we can reject the null hypothesis ($H0$) that $\\beta = 0$."
   ]
  },
  {
   "cell_type": "code",
   "execution_count": 30,
   "metadata": {},
   "outputs": [
    {
     "data": {
      "image/png": "[encoded data removed]",
      "text/plain": [
       "<matplotlib.figure.Figure at 0x11848ad30>"
      ]
     },
     "metadata": {},
     "output_type": "display_data"
    }
   ],
   "source": [
    "plt.figure(figsize=(10,8))\n",
    "plt.title('Histogram of residuals')\n",
    "plt.hist(e,normed=True,bins=20)\n",
    "plt.xlabel('Residuals')\n",
    "plt.ylabel('Probability')\n",
    "plt.show()"
   ]
  },
  {
   "cell_type": "code",
   "execution_count": 31,
   "metadata": {},
   "outputs": [
    {
     "name": "stdout",
     "output_type": "stream",
     "text": [
      "Mean: -1.7763568394002505e-15\n",
      "Standard dev: 1.024017143953709\n",
      "Skewness: -0.2516569996892638\n",
      "Kurtosis: -0.06689947809306629\n"
     ]
    }
   ],
   "source": [
    "print(\"Mean: {}\\nStandard dev: {}\\nSkewness: {}\\nKurtosis: {}\".format(e.mean(), e.std(), skew(e), kurtosis(e)))"
   ]
  },
  {
   "cell_type": "markdown",
   "metadata": {},
   "source": [
    "The low values for mean (close to 0), skewness (close to 0), and kurtosis (between -3 and 3) suggest that the residuals follow a reasonable normal distribution."
   ]
  },
  {
   "cell_type": "markdown",
   "metadata": {},
   "source": [
    "## Part (f)\n",
    "\n",
    "From the results obtained in Part (b) and Part (e) it can be concluded that to ensure that $b$ is accurate with $\\beta$ it is important for the data distribution and the error terms ($\\epsilon_i$) to follow the 7 statistical assumptions listed in Lecture 1.4. These assumptions help us to precisely define the statistical properties of the slope estimator $b$.  \n",
    "\n",
    "In Part (a) an outlier violated assumptions A3 and A4 which led to a poor fit of the linear regression. Removing the outlier resulted in a much better fit of the linear regression to the data in Part (e). This helped me learn that it is important to handle outliers before performing linear regression on the data. The presence of outliers can significantly affect the estimation of parameters $a$ and $b$ and their accuracy with $\\alpha$ and $\\beta$.  \n",
    "\n",
    "I also learned that the general steps to conclude that a dataset can be fit using a linear regression model. First, we need to generate the scatter plot of the data to visualize it. Then we could determine the values for $a$, $b$, and apply tests such as $R^2$, t-test for $b$, and standard dev for $b$ to determine the quality of the fit. Furthermore, we should also check the statistics of the residuals to check the validity of the assumptions behind the linear regression model. If all the conditions are fulfilled, then we can conclude that the dataset can be fit using a linear regression model."
   ]
  },
  {
   "cell_type": "code",
   "execution_count": null,
   "metadata": {},
   "outputs": [],
   "source": []
  }
 ],
 "metadata": {
  "kernelspec": {
   "display_name": "Python 3",
   "language": "python",
   "name": "python3"
  },
  "language_info": {
   "codemirror_mode": {
    "name": "ipython",
    "version": 3
   },
   "file_extension": ".py",
   "mimetype": "text/x-python",
   "name": "python",
   "nbconvert_exporter": "python",
   "pygments_lexer": "ipython3",
   "version": "3.5.4"
  },
  "widgets": {
   "state": {},
   "version": "1.1.2"
  }
 },
 "nbformat": 4,
 "nbformat_minor": 2
}
