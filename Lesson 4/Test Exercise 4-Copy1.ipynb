{
 "cells": [
  {
   "cell_type": "code",
   "execution_count": 1,
   "metadata": {},
   "outputs": [
    {
     "name": "stderr",
     "output_type": "stream",
     "text": [
      "/anaconda/envs/research/lib/python3.5/site-packages/statsmodels/compat/pandas.py:56: FutureWarning: The pandas.core.datetools module is deprecated and will be removed in a future version. Please use the pandas.tseries module instead.\n",
      "  from pandas.core import datetools\n"
     ]
    }
   ],
   "source": [
    "import numpy as np\n",
    "import pandas as pd\n",
    "import statsmodels.api as sm\n",
    "import matplotlib.pyplot as plt\n",
    "import seaborn as sns\n",
    "sns.set_style('whitegrid')\n",
    "%matplotlib inline"
   ]
  },
  {
   "cell_type": "code",
   "execution_count": 2,
   "metadata": {},
   "outputs": [],
   "source": [
    "df = pd.read_excel('TestExer4_Wage-round1.xls')"
   ]
  },
  {
   "cell_type": "code",
   "execution_count": 3,
   "metadata": {},
   "outputs": [
    {
     "data": {
      "text/html": [
       "<div>\n",
       "<style>\n",
       "    .dataframe thead tr:only-child th {\n",
       "        text-align: right;\n",
       "    }\n",
       "\n",
       "    .dataframe thead th {\n",
       "        text-align: left;\n",
       "    }\n",
       "\n",
       "    .dataframe tbody tr th {\n",
       "        vertical-align: top;\n",
       "    }\n",
       "</style>\n",
       "<table border=\"1\" class=\"dataframe\">\n",
       "  <thead>\n",
       "    <tr style=\"text-align: right;\">\n",
       "      <th></th>\n",
       "      <th>logw</th>\n",
       "      <th>educ</th>\n",
       "      <th>age</th>\n",
       "      <th>exper</th>\n",
       "      <th>smsa</th>\n",
       "      <th>south</th>\n",
       "      <th>nearc</th>\n",
       "      <th>daded</th>\n",
       "      <th>momed</th>\n",
       "    </tr>\n",
       "  </thead>\n",
       "  <tbody>\n",
       "    <tr>\n",
       "      <th>0</th>\n",
       "      <td>6.306275</td>\n",
       "      <td>7</td>\n",
       "      <td>29</td>\n",
       "      <td>16</td>\n",
       "      <td>1</td>\n",
       "      <td>0</td>\n",
       "      <td>0</td>\n",
       "      <td>9.94</td>\n",
       "      <td>10.25</td>\n",
       "    </tr>\n",
       "    <tr>\n",
       "      <th>1</th>\n",
       "      <td>6.175867</td>\n",
       "      <td>12</td>\n",
       "      <td>27</td>\n",
       "      <td>9</td>\n",
       "      <td>1</td>\n",
       "      <td>0</td>\n",
       "      <td>0</td>\n",
       "      <td>8.00</td>\n",
       "      <td>8.00</td>\n",
       "    </tr>\n",
       "    <tr>\n",
       "      <th>2</th>\n",
       "      <td>6.580639</td>\n",
       "      <td>12</td>\n",
       "      <td>34</td>\n",
       "      <td>16</td>\n",
       "      <td>1</td>\n",
       "      <td>0</td>\n",
       "      <td>0</td>\n",
       "      <td>14.00</td>\n",
       "      <td>12.00</td>\n",
       "    </tr>\n",
       "    <tr>\n",
       "      <th>3</th>\n",
       "      <td>5.521461</td>\n",
       "      <td>11</td>\n",
       "      <td>27</td>\n",
       "      <td>10</td>\n",
       "      <td>1</td>\n",
       "      <td>0</td>\n",
       "      <td>1</td>\n",
       "      <td>11.00</td>\n",
       "      <td>12.00</td>\n",
       "    </tr>\n",
       "    <tr>\n",
       "      <th>4</th>\n",
       "      <td>6.591674</td>\n",
       "      <td>12</td>\n",
       "      <td>34</td>\n",
       "      <td>16</td>\n",
       "      <td>1</td>\n",
       "      <td>0</td>\n",
       "      <td>1</td>\n",
       "      <td>8.00</td>\n",
       "      <td>7.00</td>\n",
       "    </tr>\n",
       "  </tbody>\n",
       "</table>\n",
       "</div>"
      ],
      "text/plain": [
       "       logw  educ  age  exper  smsa  south  nearc  daded  momed\n",
       "0  6.306275     7   29     16     1      0      0   9.94  10.25\n",
       "1  6.175867    12   27      9     1      0      0   8.00   8.00\n",
       "2  6.580639    12   34     16     1      0      0  14.00  12.00\n",
       "3  5.521461    11   27     10     1      0      1  11.00  12.00\n",
       "4  6.591674    12   34     16     1      0      1   8.00   7.00"
      ]
     },
     "execution_count": 3,
     "metadata": {},
     "output_type": "execute_result"
    }
   ],
   "source": [
    "df.head()"
   ]
  },
  {
   "cell_type": "markdown",
   "metadata": {},
   "source": [
    "## Part (a)"
   ]
  },
  {
   "cell_type": "markdown",
   "metadata": {},
   "source": [
    "The coefficient for `educ` in the OLS estimate is 0.0816. This means that when education increases by 1 year `logw` increases by 0.082."
   ]
  },
  {
   "cell_type": "code",
   "execution_count": 4,
   "metadata": {},
   "outputs": [],
   "source": [
    "df['exper2'] = df['exper']**2 "
   ]
  },
  {
   "cell_type": "code",
   "execution_count": 5,
   "metadata": {},
   "outputs": [
    {
     "name": "stdout",
     "output_type": "stream",
     "text": [
      "                            OLS Regression Results                            \n",
      "==============================================================================\n",
      "Dep. Variable:                   logw   R-squared:                       0.263\n",
      "Model:                            OLS   Adj. R-squared:                  0.262\n",
      "Method:                 Least Squares   F-statistic:                     214.6\n",
      "Date:                Tue, 24 Apr 2018   Prob (F-statistic):          3.70e-196\n",
      "Time:                        03:11:48   Log-Likelihood:                -1365.6\n",
      "No. Observations:                3010   AIC:                             2743.\n",
      "Df Residuals:                    3004   BIC:                             2779.\n",
      "Df Model:                           5                                         \n",
      "Covariance Type:            nonrobust                                         \n",
      "==============================================================================\n",
      "                 coef    std err          t      P>|t|      [0.025      0.975]\n",
      "------------------------------------------------------------------------------\n",
      "const          4.6110      0.068     67.914      0.000       4.478       4.744\n",
      "educ           0.0816      0.003     23.315      0.000       0.075       0.088\n",
      "exper          0.0838      0.007     12.377      0.000       0.071       0.097\n",
      "exper2        -0.0022      0.000     -6.800      0.000      -0.003      -0.002\n",
      "smsa           0.1508      0.016      9.523      0.000       0.120       0.182\n",
      "south         -0.1752      0.015    -11.959      0.000      -0.204      -0.146\n",
      "==============================================================================\n",
      "Omnibus:                       52.759   Durbin-Watson:                   1.853\n",
      "Prob(Omnibus):                  0.000   Jarque-Bera (JB):               62.537\n",
      "Skew:                          -0.261   Prob(JB):                     2.63e-14\n",
      "Kurtosis:                       3.476   Cond. No.                     1.26e+03\n",
      "==============================================================================\n",
      "\n",
      "Warnings:\n",
      "[1] Standard Errors assume that the covariance matrix of the errors is correctly specified.\n",
      "[2] The condition number is large, 1.26e+03. This might indicate that there are\n",
      "strong multicollinearity or other numerical problems.\n"
     ]
    }
   ],
   "source": [
    "X = df[['educ', 'exper', 'exper2', 'smsa', 'south']]\n",
    "X = sm.add_constant(X)\n",
    "y = df['logw']\n",
    "\n",
    "model = sm.OLS(y,X)\n",
    "result = model.fit()\n",
    "\n",
    "print(result.summary())"
   ]
  },
  {
   "cell_type": "markdown",
   "metadata": {},
   "source": [
    "## Part (b)"
   ]
  },
  {
   "cell_type": "markdown",
   "metadata": {},
   "source": [
    "`Intelligence`, `Efficiency` of a person may be factors that could make `educ` and `exper` endogenous.  \n",
    "\n",
    "In this case OLS is very useful as it is inconsistent so the estimate in Part(a) is ot useful."
   ]
  },
  {
   "cell_type": "markdown",
   "metadata": {},
   "source": [
    "## Part (c)"
   ]
  },
  {
   "cell_type": "markdown",
   "metadata": {},
   "source": [
    "`age` is related to `exper` as older people usually have a lot of experience. So, `age` and `age2` would be highly correlated with `exper` and `exper2`."
   ]
  },
  {
   "cell_type": "markdown",
   "metadata": {},
   "source": [
    "## Part (d)"
   ]
  },
  {
   "cell_type": "markdown",
   "metadata": {},
   "source": [
    "### First Stage Regression"
   ]
  },
  {
   "cell_type": "markdown",
   "metadata": {},
   "source": [
    "All the instruments have high correlation with `educ` as evidenced by their p-values. As the endogenous variable and the instrument variables have high correlation, they are suitable instruments for schooling."
   ]
  },
  {
   "cell_type": "code",
   "execution_count": 6,
   "metadata": {},
   "outputs": [],
   "source": [
    "df['age2'] = df['age']**2"
   ]
  },
  {
   "cell_type": "code",
   "execution_count": 7,
   "metadata": {},
   "outputs": [
    {
     "name": "stdout",
     "output_type": "stream",
     "text": [
      "                            OLS Regression Results                            \n",
      "==============================================================================\n",
      "Dep. Variable:                   educ   R-squared:                       0.247\n",
      "Model:                            OLS   Adj. R-squared:                  0.245\n",
      "Method:                 Least Squares   F-statistic:                     140.4\n",
      "Date:                Tue, 24 Apr 2018   Prob (F-statistic):          2.14e-179\n",
      "Time:                        03:11:49   Log-Likelihood:                -6808.2\n",
      "No. Observations:                3010   AIC:                         1.363e+04\n",
      "Df Residuals:                    3002   BIC:                         1.368e+04\n",
      "Df Model:                           7                                         \n",
      "Covariance Type:            nonrobust                                         \n",
      "==============================================================================\n",
      "                 coef    std err          t      P>|t|      [0.025      0.975]\n",
      "------------------------------------------------------------------------------\n",
      "const         -5.6524      3.976     -1.421      0.155     -13.449       2.144\n",
      "smsa           0.5296      0.102      5.217      0.000       0.331       0.729\n",
      "south         -0.4249      0.091     -4.667      0.000      -0.603      -0.246\n",
      "age            0.9896      0.279      3.551      0.000       0.443       1.536\n",
      "age2          -0.0170      0.005     -3.518      0.000      -0.027      -0.008\n",
      "nearc          0.2646      0.099      2.670      0.008       0.070       0.459\n",
      "daded          0.1904      0.016     12.199      0.000       0.160       0.221\n",
      "momed          0.2345      0.017     13.773      0.000       0.201       0.268\n",
      "==============================================================================\n",
      "Omnibus:                       13.809   Durbin-Watson:                   1.796\n",
      "Prob(Omnibus):                  0.001   Jarque-Bera (JB):               17.748\n",
      "Skew:                          -0.053   Prob(JB):                     0.000140\n",
      "Kurtosis:                       3.361   Cond. No.                     7.72e+04\n",
      "==============================================================================\n",
      "\n",
      "Warnings:\n",
      "[1] Standard Errors assume that the covariance matrix of the errors is correctly specified.\n",
      "[2] The condition number is large, 7.72e+04. This might indicate that there are\n",
      "strong multicollinearity or other numerical problems.\n"
     ]
    }
   ],
   "source": [
    "y1 = df['educ']\n",
    "X1 = df[['smsa', 'south', 'age', 'age2', 'nearc', 'daded', 'momed']]\n",
    "X1 = sm.add_constant(X1)\n",
    "\n",
    "model1 = sm.OLS(y1,X1)\n",
    "res1 = model1.fit()\n",
    "\n",
    "print(res1.summary())"
   ]
  },
  {
   "cell_type": "code",
   "execution_count": 8,
   "metadata": {},
   "outputs": [
    {
     "name": "stdout",
     "output_type": "stream",
     "text": [
      "                            OLS Regression Results                            \n",
      "==============================================================================\n",
      "Dep. Variable:                  exper   R-squared:                       0.685\n",
      "Model:                            OLS   Adj. R-squared:                  0.685\n",
      "Method:                 Least Squares   F-statistic:                     933.7\n",
      "Date:                Tue, 24 Apr 2018   Prob (F-statistic):               0.00\n",
      "Time:                        03:11:49   Log-Likelihood:                -6808.2\n",
      "No. Observations:                3010   AIC:                         1.363e+04\n",
      "Df Residuals:                    3002   BIC:                         1.368e+04\n",
      "Df Model:                           7                                         \n",
      "Covariance Type:            nonrobust                                         \n",
      "==============================================================================\n",
      "                 coef    std err          t      P>|t|      [0.025      0.975]\n",
      "------------------------------------------------------------------------------\n",
      "const         -0.3476      3.976     -0.087      0.930      -8.144       7.449\n",
      "smsa          -0.5296      0.102     -5.217      0.000      -0.729      -0.331\n",
      "south          0.4249      0.091      4.667      0.000       0.246       0.603\n",
      "age            0.0104      0.279      0.037      0.970      -0.536       0.557\n",
      "age2           0.0170      0.005      3.518      0.000       0.008       0.027\n",
      "nearc         -0.2646      0.099     -2.670      0.008      -0.459      -0.070\n",
      "daded         -0.1904      0.016    -12.199      0.000      -0.221      -0.160\n",
      "momed         -0.2345      0.017    -13.773      0.000      -0.268      -0.201\n",
      "==============================================================================\n",
      "Omnibus:                       13.809   Durbin-Watson:                   1.796\n",
      "Prob(Omnibus):                  0.001   Jarque-Bera (JB):               17.748\n",
      "Skew:                           0.053   Prob(JB):                     0.000140\n",
      "Kurtosis:                       3.361   Cond. No.                     7.72e+04\n",
      "==============================================================================\n",
      "\n",
      "Warnings:\n",
      "[1] Standard Errors assume that the covariance matrix of the errors is correctly specified.\n",
      "[2] The condition number is large, 7.72e+04. This might indicate that there are\n",
      "strong multicollinearity or other numerical problems.\n"
     ]
    }
   ],
   "source": [
    "y2 = df['exper']\n",
    "X2 = df[['smsa', 'south', 'age', 'age2', 'nearc', 'daded', 'momed']]\n",
    "X2 = sm.add_constant(X2)\n",
    "\n",
    "model2 = sm.OLS(y2,X2)\n",
    "res2 = model2.fit()\n",
    "\n",
    "print(res2.summary())"
   ]
  },
  {
   "cell_type": "code",
   "execution_count": 9,
   "metadata": {},
   "outputs": [
    {
     "name": "stdout",
     "output_type": "stream",
     "text": [
      "                            OLS Regression Results                            \n",
      "==============================================================================\n",
      "Dep. Variable:                 exper2   R-squared:                       0.657\n",
      "Model:                            OLS   Adj. R-squared:                  0.656\n",
      "Method:                 Least Squares   F-statistic:                     820.4\n",
      "Date:                Tue, 24 Apr 2018   Prob (F-statistic):               0.00\n",
      "Time:                        03:11:49   Log-Likelihood:                -16020.\n",
      "No. Observations:                3010   AIC:                         3.206e+04\n",
      "Df Residuals:                    3002   BIC:                         3.210e+04\n",
      "Df Model:                           7                                         \n",
      "Covariance Type:            nonrobust                                         \n",
      "==============================================================================\n",
      "                 coef    std err          t      P>|t|      [0.025      0.975]\n",
      "------------------------------------------------------------------------------\n",
      "const        681.3828     84.846      8.031      0.000     515.021     847.744\n",
      "smsa         -11.8031      2.166     -5.450      0.000     -16.050      -7.556\n",
      "south         10.6147      1.943      5.464      0.000       6.806      14.423\n",
      "age          -54.0654      5.947     -9.091      0.000     -65.726     -42.405\n",
      "age2           1.2799      0.103     12.399      0.000       1.077       1.482\n",
      "nearc         -5.7804      2.114     -2.734      0.006      -9.926      -1.635\n",
      "daded         -3.3142      0.333     -9.949      0.000      -3.967      -2.661\n",
      "momed         -4.7333      0.363    -13.028      0.000      -5.446      -4.021\n",
      "==============================================================================\n",
      "Omnibus:                      658.664   Durbin-Watson:                   1.823\n",
      "Prob(Omnibus):                  0.000   Jarque-Bera (JB):             3018.668\n",
      "Skew:                           0.981   Prob(JB):                         0.00\n",
      "Kurtosis:                       7.496   Cond. No.                     7.72e+04\n",
      "==============================================================================\n",
      "\n",
      "Warnings:\n",
      "[1] Standard Errors assume that the covariance matrix of the errors is correctly specified.\n",
      "[2] The condition number is large, 7.72e+04. This might indicate that there are\n",
      "strong multicollinearity or other numerical problems.\n"
     ]
    }
   ],
   "source": [
    "y3 = df['exper2']\n",
    "X3 = df[['smsa', 'south', 'age', 'age2', 'nearc', 'daded', 'momed']]\n",
    "X3 = sm.add_constant(X3)\n",
    "\n",
    "model3 = sm.OLS(y3,X3)\n",
    "res3 = model3.fit()\n",
    "\n",
    "print(res3.summary())"
   ]
  },
  {
   "cell_type": "code",
   "execution_count": 10,
   "metadata": {},
   "outputs": [],
   "source": [
    "df['pred_educ'] = res1.predict(X1)\n",
    "df['pred_exper'] = res2.predict(X2)\n",
    "df['pred_exper2'] = res3.predict(X3)"
   ]
  },
  {
   "cell_type": "code",
   "execution_count": 11,
   "metadata": {},
   "outputs": [
    {
     "name": "stdout",
     "output_type": "stream",
     "text": [
      "                            OLS Regression Results                            \n",
      "==============================================================================\n",
      "Dep. Variable:                   logw   R-squared:                       0.219\n",
      "Model:                            OLS   Adj. R-squared:                  0.218\n",
      "Method:                 Least Squares   F-statistic:                     168.6\n",
      "Date:                Tue, 24 Apr 2018   Prob (F-statistic):          1.84e-158\n",
      "Time:                        03:11:49   Log-Likelihood:                -1452.9\n",
      "No. Observations:                3010   AIC:                             2918.\n",
      "Df Residuals:                    3004   BIC:                             2954.\n",
      "Df Model:                           5                                         \n",
      "Covariance Type:            nonrobust                                         \n",
      "===============================================================================\n",
      "                  coef    std err          t      P>|t|      [0.025      0.975]\n",
      "-------------------------------------------------------------------------------\n",
      "const           4.4169      0.118     37.476      0.000       4.186       4.648\n",
      "smsa            0.1349      0.017      7.880      0.000       0.101       0.169\n",
      "south          -0.1590      0.016     -9.926      0.000      -0.190      -0.128\n",
      "pred_educ       0.0998      0.007     14.874      0.000       0.087       0.113\n",
      "pred_exper      0.0729      0.017      4.270      0.000       0.039       0.106\n",
      "pred_exper2    -0.0016      0.001     -1.915      0.056      -0.003    3.88e-05\n",
      "==============================================================================\n",
      "Omnibus:                       58.101   Durbin-Watson:                   1.836\n",
      "Prob(Omnibus):                  0.000   Jarque-Bera (JB):               69.727\n",
      "Skew:                          -0.274   Prob(JB):                     7.23e-16\n",
      "Kurtosis:                       3.505   Cond. No.                     1.96e+03\n",
      "==============================================================================\n",
      "\n",
      "Warnings:\n",
      "[1] Standard Errors assume that the covariance matrix of the errors is correctly specified.\n",
      "[2] The condition number is large, 1.96e+03. This might indicate that there are\n",
      "strong multicollinearity or other numerical problems.\n"
     ]
    }
   ],
   "source": [
    "y4 = df['logw']\n",
    "X4 = df[['smsa', 'south', 'pred_educ', 'pred_exper', 'pred_exper2']]\n",
    "X4 = sm.add_constant(X4)\n",
    "\n",
    "model4 = sm.OLS(y4, X4)\n",
    "res4 = model4.fit()\n",
    "\n",
    "print(res4.summary())"
   ]
  },
  {
   "cell_type": "markdown",
   "metadata": {},
   "source": [
    "## Part (e)  \n",
    "\n",
    "As can be observed from the above table, `educ` (`pred_educ`) has a positive effect on `logw`."
   ]
  },
  {
   "cell_type": "markdown",
   "metadata": {},
   "source": [
    "## Part (f)"
   ]
  },
  {
   "cell_type": "markdown",
   "metadata": {},
   "source": [
    "**Sargan Test** \n",
    "\n",
    "$H0 :\\delta = 0 $ in  \n",
    "$\\epsilon = Z\\delta + \\zeta $\n",
    "\n",
    "$nR^2 = 3010*0.001 = 3.01$  \n",
    "\n",
    "m = 8, k = 6  \n",
    "\n",
    "$\\chi^2(m-k) = \\chi^2(2) = 5.99$  \n",
    "\n",
    "Since, $nR^2 < \\chi^2(2)$ we do not reject the null hypothesis, $H0$. So, the instruments are valid as $Z$ is not correlated with th error term $\\epsilon$.\n"
   ]
  },
  {
   "cell_type": "code",
   "execution_count": 12,
   "metadata": {},
   "outputs": [],
   "source": [
    "e_2SLS = df['logw'] - res4.predict(X)"
   ]
  },
  {
   "cell_type": "code",
   "execution_count": 13,
   "metadata": {},
   "outputs": [
    {
     "name": "stdout",
     "output_type": "stream",
     "text": [
      "                            OLS Regression Results                            \n",
      "==============================================================================\n",
      "Dep. Variable:                      y   R-squared:                       0.658\n",
      "Model:                            OLS   Adj. R-squared:                  0.657\n",
      "Method:                 Least Squares   F-statistic:                     826.0\n",
      "Date:                Tue, 24 Apr 2018   Prob (F-statistic):               0.00\n",
      "Time:                        03:11:49   Log-Likelihood:                -8760.5\n",
      "No. Observations:                3010   AIC:                         1.754e+04\n",
      "Df Residuals:                    3002   BIC:                         1.759e+04\n",
      "Df Model:                           7                                         \n",
      "Covariance Type:            nonrobust                                         \n",
      "==============================================================================\n",
      "                 coef    std err          t      P>|t|      [0.025      0.975]\n",
      "------------------------------------------------------------------------------\n",
      "const        -68.9047      7.606     -9.059      0.000     -83.818     -53.991\n",
      "smsa           1.1152      0.194      5.743      0.000       0.734       1.496\n",
      "south         -1.1189      0.174     -6.425      0.000      -1.460      -0.777\n",
      "age            5.4450      0.533     10.213      0.000       4.400       6.490\n",
      "age2          -0.1252      0.009    -13.527      0.000      -0.143      -0.107\n",
      "nearc          0.5295      0.190      2.794      0.005       0.158       0.901\n",
      "daded          0.2814      0.030      9.423      0.000       0.223       0.340\n",
      "momed          0.4219      0.033     12.952      0.000       0.358       0.486\n",
      "==============================================================================\n",
      "Omnibus:                      771.677   Durbin-Watson:                   1.822\n",
      "Prob(Omnibus):                  0.000   Jarque-Bera (JB):             4080.997\n",
      "Skew:                          -1.116   Prob(JB):                         0.00\n",
      "Kurtosis:                       8.249   Cond. No.                     7.72e+04\n",
      "==============================================================================\n",
      "\n",
      "Warnings:\n",
      "[1] Standard Errors assume that the covariance matrix of the errors is correctly specified.\n",
      "[2] The condition number is large, 7.72e+04. This might indicate that there are\n",
      "strong multicollinearity or other numerical problems.\n"
     ]
    }
   ],
   "source": [
    "y = e_2SLS\n",
    "Z = df[['smsa', 'south', 'age', 'age2', 'nearc', 'daded', 'momed']]\n",
    "Z = sm.add_constant(Z)\n",
    "\n",
    "model = sm.OLS(y,Z)\n",
    "res = model.fit()\n",
    "\n",
    "print(res.summary())"
   ]
  },
  {
   "cell_type": "code",
   "execution_count": 14,
   "metadata": {},
   "outputs": [],
   "source": [
    "n = df.shape[0]"
   ]
  },
  {
   "cell_type": "code",
   "execution_count": 15,
   "metadata": {},
   "outputs": [
    {
     "name": "stdout",
     "output_type": "stream",
     "text": [
      "Number of samples = 3010\n"
     ]
    }
   ],
   "source": [
    "print('Number of samples = {}'.format(n))"
   ]
  },
  {
   "cell_type": "code",
   "execution_count": 16,
   "metadata": {},
   "outputs": [
    {
     "name": "stdout",
     "output_type": "stream",
     "text": [
      "n*R-squared = 3.0100000000000002\n"
     ]
    }
   ],
   "source": [
    "print(\"n*R-squared = {}\".format(n*0.001))"
   ]
  },
  {
   "cell_type": "code",
   "execution_count": null,
   "metadata": {},
   "outputs": [],
   "source": []
  }
 ],
 "metadata": {
  "kernelspec": {
   "display_name": "Python 3",
   "language": "python",
   "name": "python3"
  },
  "language_info": {
   "codemirror_mode": {
    "name": "ipython",
    "version": 3
   },
   "file_extension": ".py",
   "mimetype": "text/x-python",
   "name": "python",
   "nbconvert_exporter": "python",
   "pygments_lexer": "ipython3",
   "version": "3.5.4"
  },
  "widgets": {
   "state": {},
   "version": "1.1.2"
  }
 },
 "nbformat": 4,
 "nbformat_minor": 2
}
