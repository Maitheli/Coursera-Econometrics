{
 "cells": [
  {
   "cell_type": "code",
   "execution_count": 7,
   "metadata": {},
   "outputs": [
    {
     "name": "stderr",
     "output_type": "stream",
     "text": [
      "/anaconda/envs/research/lib/python3.5/site-packages/statsmodels/compat/pandas.py:56: FutureWarning: The pandas.core.datetools module is deprecated and will be removed in a future version. Please use the pandas.tseries module instead.\n",
      "  from pandas.core import datetools\n"
     ]
    }
   ],
   "source": [
    "import numpy as np\n",
    "import pandas as pd\n",
    "import statsmodels.api as sm\n",
    "import matplotlib.pyplot as plt\n",
    "import seaborn as sns\n",
    "sns.set_style('whitegrid')\n",
    "%matplotlib inline"
   ]
  },
  {
   "cell_type": "code",
   "execution_count": 8,
   "metadata": {},
   "outputs": [],
   "source": [
    "df = pd.read_excel('TrainExer45.xls')"
   ]
  },
  {
   "cell_type": "code",
   "execution_count": 9,
   "metadata": {},
   "outputs": [
    {
     "data": {
      "text/html": [
       "<div>\n",
       "<style>\n",
       "    .dataframe thead tr:only-child th {\n",
       "        text-align: right;\n",
       "    }\n",
       "\n",
       "    .dataframe thead th {\n",
       "        text-align: left;\n",
       "    }\n",
       "\n",
       "    .dataframe tbody tr th {\n",
       "        vertical-align: top;\n",
       "    }\n",
       "</style>\n",
       "<table border=\"1\" class=\"dataframe\">\n",
       "  <thead>\n",
       "    <tr style=\"text-align: right;\">\n",
       "      <th></th>\n",
       "      <th>GPA</th>\n",
       "      <th>PARTICIPATION</th>\n",
       "      <th>GENDER</th>\n",
       "      <th>EMAIL</th>\n",
       "    </tr>\n",
       "  </thead>\n",
       "  <tbody>\n",
       "    <tr>\n",
       "      <th>0</th>\n",
       "      <td>7.386898</td>\n",
       "      <td>1</td>\n",
       "      <td>0</td>\n",
       "      <td>1</td>\n",
       "    </tr>\n",
       "    <tr>\n",
       "      <th>1</th>\n",
       "      <td>6.493597</td>\n",
       "      <td>1</td>\n",
       "      <td>1</td>\n",
       "      <td>1</td>\n",
       "    </tr>\n",
       "    <tr>\n",
       "      <th>2</th>\n",
       "      <td>4.956625</td>\n",
       "      <td>0</td>\n",
       "      <td>1</td>\n",
       "      <td>1</td>\n",
       "    </tr>\n",
       "    <tr>\n",
       "      <th>3</th>\n",
       "      <td>7.442979</td>\n",
       "      <td>1</td>\n",
       "      <td>1</td>\n",
       "      <td>0</td>\n",
       "    </tr>\n",
       "    <tr>\n",
       "      <th>4</th>\n",
       "      <td>6.281521</td>\n",
       "      <td>0</td>\n",
       "      <td>1</td>\n",
       "      <td>1</td>\n",
       "    </tr>\n",
       "  </tbody>\n",
       "</table>\n",
       "</div>"
      ],
      "text/plain": [
       "        GPA  PARTICIPATION  GENDER  EMAIL\n",
       "0  7.386898              1       0      1\n",
       "1  6.493597              1       1      1\n",
       "2  4.956625              0       1      1\n",
       "3  7.442979              1       1      0\n",
       "4  6.281521              0       1      1"
      ]
     },
     "execution_count": 9,
     "metadata": {},
     "output_type": "execute_result"
    }
   ],
   "source": [
    "df.head()"
   ]
  },
  {
   "cell_type": "markdown",
   "metadata": {},
   "source": [
    "## Part (a)"
   ]
  },
  {
   "cell_type": "code",
   "execution_count": 26,
   "metadata": {},
   "outputs": [],
   "source": [
    "X = df[['GENDER', 'PARTICIPATION']]\n",
    "X = sm.add_constant(X)\n",
    "y = df['GPA']"
   ]
  },
  {
   "cell_type": "code",
   "execution_count": 27,
   "metadata": {},
   "outputs": [],
   "source": [
    "model = sm.OLS(y,X)\n",
    "result = model.fit()"
   ]
  },
  {
   "cell_type": "code",
   "execution_count": 28,
   "metadata": {},
   "outputs": [
    {
     "name": "stdout",
     "output_type": "stream",
     "text": [
      "                 Results: Ordinary least squares\n",
      "==================================================================\n",
      "Model:              OLS              Adj. R-squared:     0.243    \n",
      "Dependent Variable: GPA              AIC:                2123.2190\n",
      "Date:               2018-04-23 20:49 BIC:                2137.9422\n",
      "No. Observations:   1000             Log-Likelihood:     -1058.6  \n",
      "Df Model:           2                F-statistic:        161.0    \n",
      "Df Residuals:       997              Prob (F-statistic): 2.61e-61 \n",
      "R-squared:          0.244            Scale:              0.48790  \n",
      "------------------------------------------------------------------\n",
      "                   Coef.  Std.Err.    t     P>|t|   [0.025  0.975]\n",
      "------------------------------------------------------------------\n",
      "const              5.7711   0.0340 169.8739 0.0000  5.7044  5.8378\n",
      "GENDER            -0.2138   0.0443  -4.8240 0.0000 -0.3007 -0.1268\n",
      "PARTICIPATION      0.8244   0.0469  17.5926 0.0000  0.7324  0.9163\n",
      "------------------------------------------------------------------\n",
      "Omnibus:              4.241         Durbin-Watson:           1.976\n",
      "Prob(Omnibus):        0.120         Jarque-Bera (JB):        3.421\n",
      "Skew:                 -0.019        Prob(JB):                0.181\n",
      "Kurtosis:             2.716         Condition No.:           3    \n",
      "==================================================================\n",
      "\n"
     ]
    }
   ],
   "source": [
    "print(result.summary2())"
   ]
  },
  {
   "cell_type": "markdown",
   "metadata": {},
   "source": [
    "## Part (b)"
   ]
  },
  {
   "cell_type": "markdown",
   "metadata": {},
   "source": [
    "### First stage regression"
   ]
  },
  {
   "cell_type": "code",
   "execution_count": 32,
   "metadata": {},
   "outputs": [
    {
     "name": "stdout",
     "output_type": "stream",
     "text": [
      "                 Results: Ordinary least squares\n",
      "==================================================================\n",
      "Model:              OLS              Adj. R-squared:     0.194    \n",
      "Dependent Variable: PARTICIPATION    AIC:                1127.5740\n",
      "Date:               2018-04-23 20:58 BIC:                1142.2972\n",
      "No. Observations:   1000             Log-Likelihood:     -560.79  \n",
      "Df Model:           2                F-statistic:        121.2    \n",
      "Df Residuals:       997              Prob (F-statistic): 7.58e-48 \n",
      "R-squared:          0.196            Scale:              0.18027  \n",
      "--------------------------------------------------------------------\n",
      "             Coef.    Std.Err.      t      P>|t|     [0.025   0.975]\n",
      "--------------------------------------------------------------------\n",
      "const        0.1011     0.0229    4.4150   0.0000    0.0562   0.1461\n",
      "GENDER       0.0485     0.0269    1.8015   0.0719   -0.0043   0.1012\n",
      "EMAIL        0.4129     0.0269   15.3489   0.0000    0.3601   0.4657\n",
      "------------------------------------------------------------------\n",
      "Omnibus:              158.669       Durbin-Watson:          2.126 \n",
      "Prob(Omnibus):        0.000         Jarque-Bera (JB):       58.615\n",
      "Skew:                 0.381         Prob(JB):               0.000 \n",
      "Kurtosis:             2.091         Condition No.:          3     \n",
      "==================================================================\n",
      "\n"
     ]
    }
   ],
   "source": [
    "y = df['PARTICIPATION']\n",
    "X1 = df[['GENDER', 'EMAIL']]\n",
    "X1 = sm.add_constant(X1)\n",
    "\n",
    "model = sm.OLS(y, X1)\n",
    "res = model.fit()\n",
    "\n",
    "print(res.summary2())"
   ]
  },
  {
   "cell_type": "markdown",
   "metadata": {},
   "source": [
    "### Second stage regression"
   ]
  },
  {
   "cell_type": "code",
   "execution_count": 34,
   "metadata": {},
   "outputs": [],
   "source": [
    "df['PRED_PARTICIPATION'] = res.predict(X1)"
   ]
  },
  {
   "cell_type": "code",
   "execution_count": 39,
   "metadata": {},
   "outputs": [
    {
     "name": "stdout",
     "output_type": "stream",
     "text": [
      "                  Results: Ordinary least squares\n",
      "===================================================================\n",
      "Model:               OLS              Adj. R-squared:     0.011    \n",
      "Dependent Variable:  GPA              AIC:                2389.7127\n",
      "Date:                2018-04-23 21:06 BIC:                2404.4360\n",
      "No. Observations:    1000             Log-Likelihood:     -1191.9  \n",
      "Df Model:            2                F-statistic:        6.694    \n",
      "Df Residuals:        997              Prob (F-statistic): 0.00129  \n",
      "R-squared:           0.013            Scale:              0.63689  \n",
      "-------------------------------------------------------------------\n",
      "                    Coef.  Std.Err.    t     P>|t|   [0.025  0.975]\n",
      "-------------------------------------------------------------------\n",
      "const               5.9479   0.0512 116.2388 0.0000  5.8475  6.0483\n",
      "GENDER             -0.1728   0.0512  -3.3733 0.0008 -0.2733 -0.0723\n",
      "PRED_PARTICIPATION  0.2405   0.1225   1.9639 0.0498  0.0002  0.4808\n",
      "-------------------------------------------------------------------\n",
      "Omnibus:              20.608        Durbin-Watson:           1.975 \n",
      "Prob(Omnibus):        0.000         Jarque-Bera (JB):        11.442\n",
      "Skew:                 0.028         Prob(JB):                0.003 \n",
      "Kurtosis:             2.479         Condition No.:           6     \n",
      "===================================================================\n",
      "\n"
     ]
    }
   ],
   "source": [
    "y = df['GPA']\n",
    "X2 = df[['GENDER', 'PRED_PARTICIPATION']]\n",
    "X2 = sm.add_constant(X2)\n",
    "\n",
    "model = sm.OLS(y, X2)\n",
    "res = model.fit()\n",
    "\n",
    "print(res.summary2())"
   ]
  },
  {
   "cell_type": "markdown",
   "metadata": {},
   "source": [
    "The Std. Err. here differ from the lecture because the wrong estimate is used for calculating the variance of $\\epsilon$. This should be based on the residuals obtained using `PARTICIPATION` and not on `PRED_PARTICIPATION`."
   ]
  }
 ],
 "metadata": {
  "kernelspec": {
   "display_name": "Python 3",
   "language": "python",
   "name": "python3"
  },
  "language_info": {
   "codemirror_mode": {
    "name": "ipython",
    "version": 3
   },
   "file_extension": ".py",
   "mimetype": "text/x-python",
   "name": "python",
   "nbconvert_exporter": "python",
   "pygments_lexer": "ipython3",
   "version": "3.5.4"
  },
  "widgets": {
   "state": {},
   "version": "1.1.2"
  }
 },
 "nbformat": 4,
 "nbformat_minor": 2
}
