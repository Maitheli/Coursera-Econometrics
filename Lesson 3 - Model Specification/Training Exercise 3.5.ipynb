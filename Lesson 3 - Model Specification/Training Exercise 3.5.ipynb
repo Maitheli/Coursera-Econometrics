{
 "cells": [
  {
   "cell_type": "code",
   "execution_count": 46,
   "metadata": {},
   "outputs": [],
   "source": [
    "import numpy as np\n",
    "import pandas as pd\n",
    "import matplotlib.pyplot as plt\n",
    "import seaborn as sns\n",
    "sns.set_style('whitegrid')\n",
    "%matplotlib inline"
   ]
  },
  {
   "cell_type": "code",
   "execution_count": 47,
   "metadata": {},
   "outputs": [],
   "source": [
    "df = pd.read_excel('TrainExer 3-5.xlsx')"
   ]
  },
  {
   "cell_type": "code",
   "execution_count": 48,
   "metadata": {},
   "outputs": [
    {
     "data": {
      "text/html": [
       "<div>\n",
       "<style>\n",
       "    .dataframe thead tr:only-child th {\n",
       "        text-align: right;\n",
       "    }\n",
       "\n",
       "    .dataframe thead th {\n",
       "        text-align: left;\n",
       "    }\n",
       "\n",
       "    .dataframe tbody tr th {\n",
       "        vertical-align: top;\n",
       "    }\n",
       "</style>\n",
       "<table border=\"1\" class=\"dataframe\">\n",
       "  <thead>\n",
       "    <tr style=\"text-align: right;\">\n",
       "      <th></th>\n",
       "      <th>Year</th>\n",
       "      <th>Index</th>\n",
       "      <th>Dividends</th>\n",
       "      <th>Riskfree</th>\n",
       "      <th>LogEqPrem</th>\n",
       "      <th>BookMarket</th>\n",
       "      <th>NTIS</th>\n",
       "      <th>DivPrice</th>\n",
       "      <th>EarnPrice</th>\n",
       "      <th>Inflation</th>\n",
       "    </tr>\n",
       "  </thead>\n",
       "  <tbody>\n",
       "    <tr>\n",
       "      <th>0</th>\n",
       "      <td>1927</td>\n",
       "      <td>17.66</td>\n",
       "      <td>0.77</td>\n",
       "      <td>0.0317</td>\n",
       "      <td>0.280823</td>\n",
       "      <td>0.374689</td>\n",
       "      <td>0.073955</td>\n",
       "      <td>-3.132667</td>\n",
       "      <td>-2.766942</td>\n",
       "      <td>-0.021176</td>\n",
       "    </tr>\n",
       "    <tr>\n",
       "      <th>1</th>\n",
       "      <td>1928</td>\n",
       "      <td>24.35</td>\n",
       "      <td>0.85</td>\n",
       "      <td>0.0426</td>\n",
       "      <td>0.313824</td>\n",
       "      <td>0.259667</td>\n",
       "      <td>0.042639</td>\n",
       "      <td>-3.355051</td>\n",
       "      <td>-2.870448</td>\n",
       "      <td>-0.009793</td>\n",
       "    </tr>\n",
       "    <tr>\n",
       "      <th>2</th>\n",
       "      <td>1929</td>\n",
       "      <td>21.45</td>\n",
       "      <td>0.97</td>\n",
       "      <td>0.0303</td>\n",
       "      <td>-0.112428</td>\n",
       "      <td>0.338458</td>\n",
       "      <td>0.165576</td>\n",
       "      <td>-3.096184</td>\n",
       "      <td>-2.589490</td>\n",
       "      <td>0.001830</td>\n",
       "    </tr>\n",
       "    <tr>\n",
       "      <th>3</th>\n",
       "      <td>1930</td>\n",
       "      <td>15.34</td>\n",
       "      <td>0.98</td>\n",
       "      <td>0.0148</td>\n",
       "      <td>-0.288025</td>\n",
       "      <td>0.554745</td>\n",
       "      <td>0.131525</td>\n",
       "      <td>-2.750667</td>\n",
       "      <td>-2.760923</td>\n",
       "      <td>-0.060665</td>\n",
       "    </tr>\n",
       "    <tr>\n",
       "      <th>4</th>\n",
       "      <td>1931</td>\n",
       "      <td>8.12</td>\n",
       "      <td>0.82</td>\n",
       "      <td>0.0241</td>\n",
       "      <td>-0.563742</td>\n",
       "      <td>1.170732</td>\n",
       "      <td>-0.011032</td>\n",
       "      <td>-2.292781</td>\n",
       "      <td>-2.588626</td>\n",
       "      <td>-0.095711</td>\n",
       "    </tr>\n",
       "  </tbody>\n",
       "</table>\n",
       "</div>"
      ],
      "text/plain": [
       "   Year  Index  Dividends  Riskfree  LogEqPrem  BookMarket      NTIS  \\\n",
       "0  1927  17.66       0.77    0.0317   0.280823    0.374689  0.073955   \n",
       "1  1928  24.35       0.85    0.0426   0.313824    0.259667  0.042639   \n",
       "2  1929  21.45       0.97    0.0303  -0.112428    0.338458  0.165576   \n",
       "3  1930  15.34       0.98    0.0148  -0.288025    0.554745  0.131525   \n",
       "4  1931   8.12       0.82    0.0241  -0.563742    1.170732 -0.011032   \n",
       "\n",
       "   DivPrice  EarnPrice  Inflation  \n",
       "0 -3.132667  -2.766942  -0.021176  \n",
       "1 -3.355051  -2.870448  -0.009793  \n",
       "2 -3.096184  -2.589490   0.001830  \n",
       "3 -2.750667  -2.760923  -0.060665  \n",
       "4 -2.292781  -2.588626  -0.095711  "
      ]
     },
     "execution_count": 48,
     "metadata": {},
     "output_type": "execute_result"
    }
   ],
   "source": [
    "df.head()"
   ]
  },
  {
   "cell_type": "code",
   "execution_count": 49,
   "metadata": {},
   "outputs": [
    {
     "data": {
      "text/plain": [
       "<matplotlib.text.Text at 0x111f5ca20>"
      ]
     },
     "execution_count": 49,
     "metadata": {},
     "output_type": "execute_result"
    },
    {
     "data": {
      "image/png": "[encoded data removed]",
      "text/plain": [
       "<matplotlib.figure.Figure at 0x111f44b38>"
      ]
     },
     "metadata": {},
     "output_type": "display_data"
    }
   ],
   "source": [
    "plt.figure(figsize=(16,6))\n",
    "plt.plot(df['Year'], df['LogEqPrem'])\n",
    "plt.xlabel('Year')\n",
    "plt.ylabel('LogEqPrem')"
   ]
  },
  {
   "cell_type": "markdown",
   "metadata": {},
   "source": [
    "## Regression using 5 explanatory variables"
   ]
  },
  {
   "cell_type": "code",
   "execution_count": 4,
   "metadata": {},
   "outputs": [
    {
     "name": "stderr",
     "output_type": "stream",
     "text": [
      "/anaconda/envs/research/lib/python3.5/site-packages/statsmodels/compat/pandas.py:56: FutureWarning: The pandas.core.datetools module is deprecated and will be removed in a future version. Please use the pandas.tseries module instead.\n",
      "  from pandas.core import datetools\n"
     ]
    }
   ],
   "source": [
    "import statsmodels.api as sm"
   ]
  },
  {
   "cell_type": "code",
   "execution_count": 6,
   "metadata": {},
   "outputs": [],
   "source": [
    "X = pd.concat([df['BookMarket'], df['NTIS'], df['DivPrice'], df['EarnPrice'], df['Inflation']], axis=1)\n",
    "y = df['LogEqPrem']\n",
    "X = sm.add_constant(X)"
   ]
  },
  {
   "cell_type": "code",
   "execution_count": 7,
   "metadata": {},
   "outputs": [
    {
     "data": {
      "text/html": [
       "<table class=\"simpletable\">\n",
       "<caption>OLS Regression Results</caption>\n",
       "<tr>\n",
       "  <th>Dep. Variable:</th>        <td>LogEqPrem</td>    <th>  R-squared:         </th> <td>   0.108</td>\n",
       "</tr>\n",
       "<tr>\n",
       "  <th>Model:</th>                   <td>OLS</td>       <th>  Adj. R-squared:    </th> <td>   0.053</td>\n",
       "</tr>\n",
       "<tr>\n",
       "  <th>Method:</th>             <td>Least Squares</td>  <th>  F-statistic:       </th> <td>   1.969</td>\n",
       "</tr>\n",
       "<tr>\n",
       "  <th>Date:</th>             <td>Sun, 08 Apr 2018</td> <th>  Prob (F-statistic):</th>  <td>0.0920</td> \n",
       "</tr>\n",
       "<tr>\n",
       "  <th>Time:</th>                 <td>15:59:32</td>     <th>  Log-Likelihood:    </th> <td>  25.294</td>\n",
       "</tr>\n",
       "<tr>\n",
       "  <th>No. Observations:</th>      <td>    87</td>      <th>  AIC:               </th> <td>  -38.59</td>\n",
       "</tr>\n",
       "<tr>\n",
       "  <th>Df Residuals:</th>          <td>    81</td>      <th>  BIC:               </th> <td>  -23.79</td>\n",
       "</tr>\n",
       "<tr>\n",
       "  <th>Df Model:</th>              <td>     5</td>      <th>                     </th>     <td> </td>   \n",
       "</tr>\n",
       "<tr>\n",
       "  <th>Covariance Type:</th>      <td>nonrobust</td>    <th>                     </th>     <td> </td>   \n",
       "</tr>\n",
       "</table>\n",
       "<table class=\"simpletable\">\n",
       "<tr>\n",
       "       <td></td>         <th>coef</th>     <th>std err</th>      <th>t</th>      <th>P>|t|</th>  <th>[0.025</th>    <th>0.975]</th>  \n",
       "</tr>\n",
       "<tr>\n",
       "  <th>const</th>      <td>    0.2344</td> <td>    0.385</td> <td>    0.610</td> <td> 0.544</td> <td>   -0.531</td> <td>    0.999</td>\n",
       "</tr>\n",
       "<tr>\n",
       "  <th>BookMarket</th> <td>   -0.1761</td> <td>    0.154</td> <td>   -1.143</td> <td> 0.257</td> <td>   -0.483</td> <td>    0.131</td>\n",
       "</tr>\n",
       "<tr>\n",
       "  <th>NTIS</th>       <td>   -0.1456</td> <td>    0.819</td> <td>   -0.178</td> <td> 0.859</td> <td>   -1.775</td> <td>    1.484</td>\n",
       "</tr>\n",
       "<tr>\n",
       "  <th>DivPrice</th>   <td>   -0.1199</td> <td>    0.098</td> <td>   -1.219</td> <td> 0.226</td> <td>   -0.315</td> <td>    0.076</td>\n",
       "</tr>\n",
       "<tr>\n",
       "  <th>EarnPrice</th>  <td>    0.1672</td> <td>    0.085</td> <td>    1.970</td> <td> 0.052</td> <td>   -0.002</td> <td>    0.336</td>\n",
       "</tr>\n",
       "<tr>\n",
       "  <th>Inflation</th>  <td>   -0.5669</td> <td>    0.587</td> <td>   -0.965</td> <td> 0.337</td> <td>   -1.736</td> <td>    0.602</td>\n",
       "</tr>\n",
       "</table>\n",
       "<table class=\"simpletable\">\n",
       "<tr>\n",
       "  <th>Omnibus:</th>       <td> 1.436</td> <th>  Durbin-Watson:     </th> <td>   1.833</td>\n",
       "</tr>\n",
       "<tr>\n",
       "  <th>Prob(Omnibus):</th> <td> 0.488</td> <th>  Jarque-Bera (JB):  </th> <td>   1.011</td>\n",
       "</tr>\n",
       "<tr>\n",
       "  <th>Skew:</th>          <td>-0.254</td> <th>  Prob(JB):          </th> <td>   0.603</td>\n",
       "</tr>\n",
       "<tr>\n",
       "  <th>Kurtosis:</th>      <td> 3.142</td> <th>  Cond. No.          </th> <td>    189.</td>\n",
       "</tr>\n",
       "</table>"
      ],
      "text/plain": [
       "<class 'statsmodels.iolib.summary.Summary'>\n",
       "\"\"\"\n",
       "                            OLS Regression Results                            \n",
       "==============================================================================\n",
       "Dep. Variable:              LogEqPrem   R-squared:                       0.108\n",
       "Model:                            OLS   Adj. R-squared:                  0.053\n",
       "Method:                 Least Squares   F-statistic:                     1.969\n",
       "Date:                Sun, 08 Apr 2018   Prob (F-statistic):             0.0920\n",
       "Time:                        15:59:32   Log-Likelihood:                 25.294\n",
       "No. Observations:                  87   AIC:                            -38.59\n",
       "Df Residuals:                      81   BIC:                            -23.79\n",
       "Df Model:                           5                                         \n",
       "Covariance Type:            nonrobust                                         \n",
       "==============================================================================\n",
       "                 coef    std err          t      P>|t|      [0.025      0.975]\n",
       "------------------------------------------------------------------------------\n",
       "const          0.2344      0.385      0.610      0.544      -0.531       0.999\n",
       "BookMarket    -0.1761      0.154     -1.143      0.257      -0.483       0.131\n",
       "NTIS          -0.1456      0.819     -0.178      0.859      -1.775       1.484\n",
       "DivPrice      -0.1199      0.098     -1.219      0.226      -0.315       0.076\n",
       "EarnPrice      0.1672      0.085      1.970      0.052      -0.002       0.336\n",
       "Inflation     -0.5669      0.587     -0.965      0.337      -1.736       0.602\n",
       "==============================================================================\n",
       "Omnibus:                        1.436   Durbin-Watson:                   1.833\n",
       "Prob(Omnibus):                  0.488   Jarque-Bera (JB):                1.011\n",
       "Skew:                          -0.254   Prob(JB):                        0.603\n",
       "Kurtosis:                       3.142   Cond. No.                         189.\n",
       "==============================================================================\n",
       "\n",
       "Warnings:\n",
       "[1] Standard Errors assume that the covariance matrix of the errors is correctly specified.\n",
       "\"\"\""
      ]
     },
     "execution_count": 7,
     "metadata": {},
     "output_type": "execute_result"
    }
   ],
   "source": [
    "model = sm.OLS(y, X).fit()\n",
    "model.summary()"
   ]
  },
  {
   "cell_type": "markdown",
   "metadata": {},
   "source": [
    "## Regression using only `BookMarket` variable"
   ]
  },
  {
   "cell_type": "code",
   "execution_count": 29,
   "metadata": {},
   "outputs": [],
   "source": [
    "X = df['BookMarket']\n",
    "y = df['LogEqPrem']\n",
    "X = sm.add_constant(X)"
   ]
  },
  {
   "cell_type": "code",
   "execution_count": 30,
   "metadata": {},
   "outputs": [
    {
     "data": {
      "text/html": [
       "<table class=\"simpletable\">\n",
       "<caption>OLS Regression Results</caption>\n",
       "<tr>\n",
       "  <th>Dep. Variable:</th>        <td>LogEqPrem</td>    <th>  R-squared:         </th> <td>   0.063</td>\n",
       "</tr>\n",
       "<tr>\n",
       "  <th>Model:</th>                   <td>OLS</td>       <th>  Adj. R-squared:    </th> <td>   0.052</td>\n",
       "</tr>\n",
       "<tr>\n",
       "  <th>Method:</th>             <td>Least Squares</td>  <th>  F-statistic:       </th> <td>   5.749</td>\n",
       "</tr>\n",
       "<tr>\n",
       "  <th>Date:</th>             <td>Sun, 08 Apr 2018</td> <th>  Prob (F-statistic):</th>  <td>0.0187</td> \n",
       "</tr>\n",
       "<tr>\n",
       "  <th>Time:</th>                 <td>17:13:37</td>     <th>  Log-Likelihood:    </th> <td>  23.150</td>\n",
       "</tr>\n",
       "<tr>\n",
       "  <th>No. Observations:</th>      <td>    87</td>      <th>  AIC:               </th> <td>  -42.30</td>\n",
       "</tr>\n",
       "<tr>\n",
       "  <th>Df Residuals:</th>          <td>    85</td>      <th>  BIC:               </th> <td>  -37.37</td>\n",
       "</tr>\n",
       "<tr>\n",
       "  <th>Df Model:</th>              <td>     1</td>      <th>                     </th>     <td> </td>   \n",
       "</tr>\n",
       "<tr>\n",
       "  <th>Covariance Type:</th>      <td>nonrobust</td>    <th>                     </th>     <td> </td>   \n",
       "</tr>\n",
       "</table>\n",
       "<table class=\"simpletable\">\n",
       "<tr>\n",
       "       <td></td>         <th>coef</th>     <th>std err</th>      <th>t</th>      <th>P>|t|</th>  <th>[0.025</th>    <th>0.975]</th>  \n",
       "</tr>\n",
       "<tr>\n",
       "  <th>const</th>      <td>    0.1659</td> <td>    0.049</td> <td>    3.411</td> <td> 0.001</td> <td>    0.069</td> <td>    0.263</td>\n",
       "</tr>\n",
       "<tr>\n",
       "  <th>BookMarket</th> <td>   -0.1851</td> <td>    0.077</td> <td>   -2.398</td> <td> 0.019</td> <td>   -0.339</td> <td>   -0.032</td>\n",
       "</tr>\n",
       "</table>\n",
       "<table class=\"simpletable\">\n",
       "<tr>\n",
       "  <th>Omnibus:</th>       <td> 7.691</td> <th>  Durbin-Watson:     </th> <td>   1.808</td>\n",
       "</tr>\n",
       "<tr>\n",
       "  <th>Prob(Omnibus):</th> <td> 0.021</td> <th>  Jarque-Bera (JB):  </th> <td>   7.155</td>\n",
       "</tr>\n",
       "<tr>\n",
       "  <th>Skew:</th>          <td>-0.649</td> <th>  Prob(JB):          </th> <td>  0.0279</td>\n",
       "</tr>\n",
       "<tr>\n",
       "  <th>Kurtosis:</th>      <td> 3.536</td> <th>  Cond. No.          </th> <td>    5.17</td>\n",
       "</tr>\n",
       "</table>"
      ],
      "text/plain": [
       "<class 'statsmodels.iolib.summary.Summary'>\n",
       "\"\"\"\n",
       "                            OLS Regression Results                            \n",
       "==============================================================================\n",
       "Dep. Variable:              LogEqPrem   R-squared:                       0.063\n",
       "Model:                            OLS   Adj. R-squared:                  0.052\n",
       "Method:                 Least Squares   F-statistic:                     5.749\n",
       "Date:                Sun, 08 Apr 2018   Prob (F-statistic):             0.0187\n",
       "Time:                        17:13:37   Log-Likelihood:                 23.150\n",
       "No. Observations:                  87   AIC:                            -42.30\n",
       "Df Residuals:                      85   BIC:                            -37.37\n",
       "Df Model:                           1                                         \n",
       "Covariance Type:            nonrobust                                         \n",
       "==============================================================================\n",
       "                 coef    std err          t      P>|t|      [0.025      0.975]\n",
       "------------------------------------------------------------------------------\n",
       "const          0.1659      0.049      3.411      0.001       0.069       0.263\n",
       "BookMarket    -0.1851      0.077     -2.398      0.019      -0.339      -0.032\n",
       "==============================================================================\n",
       "Omnibus:                        7.691   Durbin-Watson:                   1.808\n",
       "Prob(Omnibus):                  0.021   Jarque-Bera (JB):                7.155\n",
       "Skew:                          -0.649   Prob(JB):                       0.0279\n",
       "Kurtosis:                       3.536   Cond. No.                         5.17\n",
       "==============================================================================\n",
       "\n",
       "Warnings:\n",
       "[1] Standard Errors assume that the covariance matrix of the errors is correctly specified.\n",
       "\"\"\""
      ]
     },
     "execution_count": 30,
     "metadata": {},
     "output_type": "execute_result"
    }
   ],
   "source": [
    "model = sm.OLS(y, X).fit()\n",
    "model.summary()"
   ]
  },
  {
   "cell_type": "code",
   "execution_count": 31,
   "metadata": {},
   "outputs": [],
   "source": [
    "y_pred = model.predict(X)"
   ]
  },
  {
   "cell_type": "code",
   "execution_count": 37,
   "metadata": {},
   "outputs": [
    {
     "name": "stdout",
     "output_type": "stream",
     "text": [
      "2.99171449101\n"
     ]
    }
   ],
   "source": [
    "df['y_pred_2'] = y_pred**2\n",
    "e0 = sum((y - y_pred)**2)\n",
    "print(e0)"
   ]
  },
  {
   "cell_type": "code",
   "execution_count": 38,
   "metadata": {},
   "outputs": [],
   "source": [
    "X = pd.concat([df['BookMarket'], df['y_pred_2']], axis=1)\n",
    "X = sm.add_constant(X)"
   ]
  },
  {
   "cell_type": "code",
   "execution_count": 39,
   "metadata": {},
   "outputs": [
    {
     "data": {
      "text/html": [
       "<table class=\"simpletable\">\n",
       "<caption>OLS Regression Results</caption>\n",
       "<tr>\n",
       "  <th>Dep. Variable:</th>        <td>LogEqPrem</td>    <th>  R-squared:         </th> <td>   0.100</td>\n",
       "</tr>\n",
       "<tr>\n",
       "  <th>Model:</th>                   <td>OLS</td>       <th>  Adj. R-squared:    </th> <td>   0.079</td>\n",
       "</tr>\n",
       "<tr>\n",
       "  <th>Method:</th>             <td>Least Squares</td>  <th>  F-statistic:       </th> <td>   4.680</td>\n",
       "</tr>\n",
       "<tr>\n",
       "  <th>Date:</th>             <td>Sun, 08 Apr 2018</td> <th>  Prob (F-statistic):</th>  <td>0.0118</td> \n",
       "</tr>\n",
       "<tr>\n",
       "  <th>Time:</th>                 <td>17:15:31</td>     <th>  Log-Likelihood:    </th> <td>  24.899</td>\n",
       "</tr>\n",
       "<tr>\n",
       "  <th>No. Observations:</th>      <td>    87</td>      <th>  AIC:               </th> <td>  -43.80</td>\n",
       "</tr>\n",
       "<tr>\n",
       "  <th>Df Residuals:</th>          <td>    84</td>      <th>  BIC:               </th> <td>  -36.40</td>\n",
       "</tr>\n",
       "<tr>\n",
       "  <th>Df Model:</th>              <td>     2</td>      <th>                     </th>     <td> </td>   \n",
       "</tr>\n",
       "<tr>\n",
       "  <th>Covariance Type:</th>      <td>nonrobust</td>    <th>                     </th>     <td> </td>   \n",
       "</tr>\n",
       "</table>\n",
       "<table class=\"simpletable\">\n",
       "<tr>\n",
       "       <td></td>         <th>coef</th>     <th>std err</th>      <th>t</th>      <th>P>|t|</th>  <th>[0.025</th>    <th>0.975]</th>  \n",
       "</tr>\n",
       "<tr>\n",
       "  <th>const</th>      <td>    0.3417</td> <td>    0.106</td> <td>    3.219</td> <td> 0.002</td> <td>    0.131</td> <td>    0.553</td>\n",
       "</tr>\n",
       "<tr>\n",
       "  <th>BookMarket</th> <td>   -0.3758</td> <td>    0.128</td> <td>   -2.939</td> <td> 0.004</td> <td>   -0.630</td> <td>   -0.122</td>\n",
       "</tr>\n",
       "<tr>\n",
       "  <th>y_pred_2</th>   <td>  -11.2543</td> <td>    6.063</td> <td>   -1.856</td> <td> 0.067</td> <td>  -23.311</td> <td>    0.802</td>\n",
       "</tr>\n",
       "</table>\n",
       "<table class=\"simpletable\">\n",
       "<tr>\n",
       "  <th>Omnibus:</th>       <td> 6.823</td> <th>  Durbin-Watson:     </th> <td>   1.901</td>\n",
       "</tr>\n",
       "<tr>\n",
       "  <th>Prob(Omnibus):</th> <td> 0.033</td> <th>  Jarque-Bera (JB):  </th> <td>   6.299</td>\n",
       "</tr>\n",
       "<tr>\n",
       "  <th>Skew:</th>          <td>-0.637</td> <th>  Prob(JB):          </th> <td>  0.0429</td>\n",
       "</tr>\n",
       "<tr>\n",
       "  <th>Kurtosis:</th>      <td> 3.339</td> <th>  Cond. No.          </th> <td>    355.</td>\n",
       "</tr>\n",
       "</table>"
      ],
      "text/plain": [
       "<class 'statsmodels.iolib.summary.Summary'>\n",
       "\"\"\"\n",
       "                            OLS Regression Results                            \n",
       "==============================================================================\n",
       "Dep. Variable:              LogEqPrem   R-squared:                       0.100\n",
       "Model:                            OLS   Adj. R-squared:                  0.079\n",
       "Method:                 Least Squares   F-statistic:                     4.680\n",
       "Date:                Sun, 08 Apr 2018   Prob (F-statistic):             0.0118\n",
       "Time:                        17:15:31   Log-Likelihood:                 24.899\n",
       "No. Observations:                  87   AIC:                            -43.80\n",
       "Df Residuals:                      84   BIC:                            -36.40\n",
       "Df Model:                           2                                         \n",
       "Covariance Type:            nonrobust                                         \n",
       "==============================================================================\n",
       "                 coef    std err          t      P>|t|      [0.025      0.975]\n",
       "------------------------------------------------------------------------------\n",
       "const          0.3417      0.106      3.219      0.002       0.131       0.553\n",
       "BookMarket    -0.3758      0.128     -2.939      0.004      -0.630      -0.122\n",
       "y_pred_2     -11.2543      6.063     -1.856      0.067     -23.311       0.802\n",
       "==============================================================================\n",
       "Omnibus:                        6.823   Durbin-Watson:                   1.901\n",
       "Prob(Omnibus):                  0.033   Jarque-Bera (JB):                6.299\n",
       "Skew:                          -0.637   Prob(JB):                       0.0429\n",
       "Kurtosis:                       3.339   Cond. No.                         355.\n",
       "==============================================================================\n",
       "\n",
       "Warnings:\n",
       "[1] Standard Errors assume that the covariance matrix of the errors is correctly specified.\n",
       "\"\"\""
      ]
     },
     "execution_count": 39,
     "metadata": {},
     "output_type": "execute_result"
    }
   ],
   "source": [
    "model = sm.OLS(y, X).fit()\n",
    "model.summary()"
   ]
  },
  {
   "cell_type": "code",
   "execution_count": 41,
   "metadata": {},
   "outputs": [
    {
     "name": "stdout",
     "output_type": "stream",
     "text": [
      "2.87382953372\n"
     ]
    }
   ],
   "source": [
    "y_pred = model.predict(X)\n",
    "e1 = sum((y - y_pred)**2) # unrestricted model\n",
    "print(e1)"
   ]
  },
  {
   "cell_type": "markdown",
   "metadata": {},
   "source": [
    "$$F = \\frac{(e0 - e1)/g}{e1/(n - k)}$$"
   ]
  },
  {
   "cell_type": "code",
   "execution_count": 44,
   "metadata": {},
   "outputs": [
    {
     "name": "stdout",
     "output_type": "stream",
     "text": [
      "3.44569373243\n"
     ]
    }
   ],
   "source": [
    "F = ((e0 - e1)/1)/(e1/(87 - 3))\n",
    "print(F)"
   ]
  },
  {
   "cell_type": "markdown",
   "metadata": {},
   "source": [
    "H0 is not rejected. We do not reject the hypothesis that the model is a linear regression model."
   ]
  },
  {
   "cell_type": "code",
   "execution_count": null,
   "metadata": {},
   "outputs": [],
   "source": []
  }
 ],
 "metadata": {
  "kernelspec": {
   "display_name": "Python 3",
   "language": "python",
   "name": "python3"
  },
  "language_info": {
   "codemirror_mode": {
    "name": "ipython",
    "version": 3
   },
   "file_extension": ".py",
   "mimetype": "text/x-python",
   "name": "python",
   "nbconvert_exporter": "python",
   "pygments_lexer": "ipython3",
   "version": "3.5.4"
  },
  "widgets": {
   "state": {},
   "version": "1.1.2"
  }
 },
 "nbformat": 4,
 "nbformat_minor": 2
}
